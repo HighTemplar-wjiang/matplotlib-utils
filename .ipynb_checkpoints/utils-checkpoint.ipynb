{
 "cells": [
  {
   "cell_type": "code",
   "execution_count": 1,
   "metadata": {},
   "outputs": [],
   "source": [
    "%matplotlib inline\n",
    "import numpy as np\n",
    "import matplotlib as mpl\n",
    "import matplotlib.pyplot as plt\n",
    "\n",
    "# Customized color class.\n",
    "from mpl_colors import MPLColors"
   ]
  },
  {
   "cell_type": "code",
   "execution_count": 2,
   "metadata": {},
   "outputs": [
    {
     "data": {
      "image/png": "[encoded data removed]",
      "text/plain": [
       "<Figure size 720x72 with 2 Axes>"
      ]
     },
     "metadata": {
      "needs_background": "light"
     },
     "output_type": "display_data"
    },
    {
     "data": {
      "image/png": "[encoded data removed]",
      "text/plain": [
       "<Figure size 720x72 with 2 Axes>"
      ]
     },
     "metadata": {
      "needs_background": "light"
     },
     "output_type": "display_data"
    },
    {
     "data": {
      "image/png": "[encoded data removed]",
      "text/plain": [
       "<Figure size 720x72 with 2 Axes>"
      ]
     },
     "metadata": {
      "needs_background": "light"
     },
     "output_type": "display_data"
    },
    {
     "data": {
      "image/png": "[encoded data removed]",
      "text/plain": [
       "<Figure size 720x72 with 2 Axes>"
      ]
     },
     "metadata": {
      "needs_background": "light"
     },
     "output_type": "display_data"
    },
    {
     "data": {
      "image/png": "[encoded data removed]",
      "text/plain": [
       "<Figure size 720x72 with 2 Axes>"
      ]
     },
     "metadata": {
      "needs_background": "light"
     },
     "output_type": "display_data"
    },
    {
     "data": {
      "image/png": "[encoded data removed]",
      "text/plain": [
       "<Figure size 720x72 with 2 Axes>"
      ]
     },
     "metadata": {
      "needs_background": "light"
     },
     "output_type": "display_data"
    },
    {
     "data": {
      "image/png": "[encoded data removed]",
      "text/plain": [
       "<Figure size 720x72 with 2 Axes>"
      ]
     },
     "metadata": {
      "needs_background": "light"
     },
     "output_type": "display_data"
    }
   ],
   "source": [
    "mycmap = MPLColors(\"RdYlBu\", shuffle_listed=False, ncolors=20, gamma=1.0)\n",
    "mycmap.show_colormap()\n",
    "mycmap = MPLColors(\"RdYlGn\", shuffle_listed=False, ncolors=20, gamma=1.0)\n",
    "mycmap.show_colormap()\n",
    "mycmap = MPLColors((\"red\", \"magenta\", \"lime\", \"blue\"), shuffle_listed=False, ncolors=30, gamma=0.6)\n",
    "mycmap.show_colormap()\n",
    "mycmap = MPLColors((\"blue\", \"red\", \"magenta\", \"green\", \"cyan\", \"yellow\"), shuffle_listed=False, ncolors=30)\n",
    "mycmap.show_colormap()\n",
    "mycmap = MPLColors((\"red\", \"green\", \"yellow\"), shuffle_listed=False, ncolors=30)\n",
    "mycmap.show_colormap()\n",
    "mycmap = MPLColors(\"Spectral\", shuffle_listed=False, ncolors=30)\n",
    "mycmap.show_colormap()\n",
    "mycmap = MPLColors(\"viridis\", shuffle_listed=False, ncolors=30)\n",
    "mycmap.show_colormap()"
   ]
  },
  {
   "cell_type": "code",
   "execution_count": null,
   "metadata": {},
   "outputs": [],
   "source": [
    "cmap = MPLColors(\"Dark2\") + MPLColors(\"Pastel2\")\n",
    "cmap.show_colormap()"
   ]
  },
  {
   "cell_type": "code",
   "execution_count": null,
   "metadata": {},
   "outputs": [],
   "source": [
    "from itertools import product\n",
    "\n",
    "mycmap1 = MPLColors(\"Dark2\")\n",
    "mycmap2 = MPLColors(\"Pastel2\")\n",
    "\n",
    "mycolor_list = mycmap1.get_color_list() + mycmap2.get_color_list()\n",
    "\n",
    "fig, ax = plt.subplots(dpi=300)\n",
    "params = [{\"color\": item[0], \"marker\": item[1]} for item in product(mycolor_list, [\"o\", \"x\"])]\n",
    "data = np.random.random((len(params), 2))\n",
    "for i, (d, p) in enumerate(zip(data, params)):\n",
    "    ax.plot(*d, **p, label=\"Catogory {}\".format(i+1))\n",
    "ax.legend(ncol=2, bbox_to_anchor=(1, 1))"
   ]
  },
  {
   "cell_type": "code",
   "execution_count": null,
   "metadata": {},
   "outputs": [],
   "source": [
    "mycmap._ncolors"
   ]
  },
  {
   "cell_type": "code",
   "execution_count": null,
   "metadata": {},
   "outputs": [],
   "source": [
    "import matplotlib.pylab as plt\n",
    "import numpy as np\n",
    "\n",
    "f,a = plt.subplots()\n",
    "x = np.linspace(1,10,100)\n",
    "y = np.sin(x)\n",
    "a.plot(x,y, label=\"sin\")\n",
    "pos = []\n",
    "# def onclick(event):\n",
    "#     pos.append([event.x,event.y])\n",
    "# f.canvas.mpl_connect('button_press_event', onclick)\n",
    "f.legend()\n",
    "f.show()"
   ]
  },
  {
   "cell_type": "code",
   "execution_count": null,
   "metadata": {},
   "outputs": [],
   "source": []
  }
 ],
 "metadata": {
  "kernelspec": {
   "display_name": "Python 3",
   "language": "python",
   "name": "python3"
  },
  "language_info": {
   "codemirror_mode": {
    "name": "ipython",
    "version": 3
   },
   "file_extension": ".py",
   "mimetype": "text/x-python",
   "name": "python",
   "nbconvert_exporter": "python",
   "pygments_lexer": "ipython3",
   "version": "3.6.9"
  }
 },
 "nbformat": 4,
 "nbformat_minor": 4
}
